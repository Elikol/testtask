{
 "cells": [
  {
   "cell_type": "code",
   "execution_count": 177,
   "metadata": {},
   "outputs": [],
   "source": [
    "import random\n",
    "from scipy import stats\n",
    "import re\n",
    "import math"
   ]
  },
  {
   "cell_type": "code",
   "execution_count": 178,
   "metadata": {},
   "outputs": [],
   "source": [
    "time_regex = re.compile('\\d+.\\d+')"
   ]
  },
  {
   "cell_type": "code",
   "execution_count": 179,
   "metadata": {},
   "outputs": [],
   "source": [
    "trials = 10000\n",
    "sample_size = 2000\n",
    "i = 0\n",
    "test_sample = []\n",
    "index_sample = []\n",
    "home_sample = []\n",
    "random_set = []\n",
    "\n",
    "with open('log.txt', 'rb') as log:\n",
    "    \n",
    "    log.seek(0, 2)\n",
    "    log_size = log.tell()\n",
    "    # Определяем размер файла\n",
    "    \n",
    "    for trial in xrange(trials):\n",
    "        random_set.append(random.choice(xrange(log_size)))\n",
    "    # Делаем выборку позиций байтов.\n",
    "    \n",
    "    while (len(test_sample) < sample_size) | (len(index_sample) < sample_size) | (len(home_sample) < sample_size):\n",
    "        \n",
    "        log.seek(random_set[i]) # Выбираем следующую позицию байтов из выборки\n",
    "        log.readline() # Пропускаем линию, на случай, если попали в середину строки\n",
    "        line = log.readline().rstrip()\n",
    "    \n",
    "        if ('test' in line) & (len(test_sample) < sample_size):\n",
    "            try:\n",
    "                times = time_regex.search(line).group(0)\n",
    "            except (TypeError, AttributeError):\n",
    "                times = 0\n",
    "            test_sample.append(float(times))\n",
    "        \n",
    "        if ('index' in line) & (len(index_sample) < sample_size):\n",
    "            try:\n",
    "                times = time_regex.search(line).group(0)\n",
    "            except (TypeError, AttributeError):\n",
    "                times = 0\n",
    "            index_sample.append(float(times))\n",
    "        \n",
    "        if ('home' in line) & (len(home_sample) < sample_size):\n",
    "            try:\n",
    "                times = time_regex.search(line).group(0)\n",
    "            except (TypeError, AttributeError):\n",
    "                times = 0\n",
    "            home_sample.append(float(times))\n",
    "        # Собираем выборку для каждого запроса. Регэкс может вернуть None, поэтому обернут в try-except.\n",
    "        \n",
    "        if i < (len(random_set)-1):\n",
    "            i += 1\n",
    "        else:\n",
    "            for trial in xrange(trials):\n",
    "                random_set.append(random.choice(xrange(log_size)))\n",
    "            i = 0\n",
    "        # Если по выборке байтов прошли, но нужные выборки не набрались, имеет смысл сделать новую выборку байтов."
   ]
  },
  {
   "cell_type": "code",
   "execution_count": 180,
   "metadata": {},
   "outputs": [
    {
     "name": "stdout",
     "output_type": "stream",
     "text": [
      "Среднее значение для /home 0.6020249999999998\n",
      "Среднее значение для /index 0.6079\n",
      "Среднее значение для /test 0.6018699999999999\n"
     ]
    }
   ],
   "source": [
    "home_mean = stats.describe(home_sample).mean\n",
    "home_variance = stats.describe(home_sample).variance\n",
    "home_nobs= stats.describe(home_sample).nobs\n",
    "home_std = math.sqrt(home_variance)\n",
    "\n",
    "print \"Среднее значение для /home\", home_mean\n",
    "\n",
    "index_mean = stats.describe(index_sample).mean\n",
    "index_variance = stats.describe(index_sample).variance\n",
    "index_nobs= stats.describe(index_sample).nobs\n",
    "index_std = math.sqrt(index_variance)\n",
    "\n",
    "print \"Среднее значение для /index\", index_mean\n",
    "\n",
    "test_mean = stats.describe(test_sample).mean\n",
    "test_variance = stats.describe(test_sample).variance\n",
    "test_nobs= stats.describe(test_sample).nobs\n",
    "test_std = math.sqrt(test_variance)\n",
    "\n",
    "print \"Среднее значение для /test\", test_mean"
   ]
  },
  {
   "cell_type": "code",
   "execution_count": 186,
   "metadata": {},
   "outputs": [
    {
     "name": "stdout",
     "output_type": "stream",
     "text": [
      "Доверительный интервал среднего для /test (если считать исходное распределение за Стьюдента) (0.5704964464059408, 0.633243553594059)\n",
      "Доверительный интервал среднего для /home (если считать исходное распределение за Стьюдента) (0.5935658356351327, 0.610484164364867)\n",
      "Доверительный интервал среднего для /index (если считать исходное распределение за Стьюдента) (0.5792480282125876, 0.6365519717874124)\n",
      "\n",
      "\n",
      "Доверительный интервал среднего для /test (если считать исходное распределение за нормальное) (0.570515432929963, 0.6332245670700368)\n",
      "Доверительный интервал среднего для /home (если считать исходное распределение за нормальное) (0.5935709549190206, 0.610479045080979)\n",
      "Доверительный интервал среднего для /index (если считать исходное распределение за нормальное) (0.5792653677004144, 0.6365346322995856)\n"
     ]
    }
   ],
   "source": [
    "conf_test_mean = stats.t.interval(0.95, len(test_sample), test_mean, stats.sem(test_sample))\n",
    "print \"Доверительный интервал среднего для /test (если считать исходное распределение за Стьюдента)\", conf_test_mean\n",
    "conf_home_mean = stats.t.interval(0.95, len(home_sample), home_mean, stats.sem(home_sample))\n",
    "print \"Доверительный интервал среднего для /home (если считать исходное распределение за Стьюдента)\", conf_home_mean\n",
    "conf_index_mean = stats.t.interval(0.95, len(index_sample), index_mean, stats.sem(index_sample))\n",
    "print \"Доверительный интервал среднего для /index (если считать исходное распределение за Стьюдента)\", conf_index_mean\n",
    "\n",
    "print \"\\n\"\n",
    "\n",
    "conf_test_mean = stats.norm.interval(0.95, test_mean, stats.sem(test_sample))\n",
    "print \"Доверительный интервал среднего для /test (если считать исходное распределение за нормальное)\", conf_test_mean\n",
    "conf_home_mean = stats.norm.interval(0.95,  home_mean, stats.sem(home_sample))\n",
    "print \"Доверительный интервал среднего для /home (если считать исходное распределение за нормальное)\", conf_home_mean\n",
    "conf_index_mean = stats.norm.interval(0.95, index_mean, stats.sem(index_sample))\n",
    "print \"Доверительный интервал среднего для /index (если считать исходное распределение за нормальное)\", conf_index_mean"
   ]
  },
  {
   "cell_type": "code",
   "execution_count": 182,
   "metadata": {},
   "outputs": [
    {
     "name": "stdout",
     "output_type": "stream",
     "text": [
      "t-тест: Средние значения равны на уровне 5%, p-value = 0.7807727670981205 Cтатистика теста -0.2783308798174461\n"
     ]
    }
   ],
   "source": [
    "t_test = stats.ttest_ind(test_sample, index_sample)\n",
    "if t_test.pvalue > 0.05:\n",
    "    print \"t-тест: Средние значения равны на уровне 5%, p-value =\", t_test.pvalue, \"Cтатистика теста\", t_test.statistic\n",
    "else:\n",
    "    print \"t-тест: Средние значения не равны, p-value =\", t_test.pvalue, \"Cтатистика теста\", t_test.statistic"
   ]
  },
  {
   "cell_type": "code",
   "execution_count": 183,
   "metadata": {},
   "outputs": [
    {
     "name": "stdout",
     "output_type": "stream",
     "text": [
      "t-тест для дескриптивных статистик: Средние значения равны на уровне 5%, p-value = 0.7807728849670232 Cтатистика теста -0.2783308798174461\n"
     ]
    }
   ],
   "source": [
    "t_test_des = stats.ttest_ind_from_stats(test_mean, test_std, test_nobs, index_mean, index_std, index_nobs, equal_var=False)\n",
    "if t_test_des.pvalue > 0.05:\n",
    "    print \"t-тест для дескриптивных статистик: Средние значения равны на уровне 5%, p-value =\", t_test_des.pvalue, \"Cтатистика теста\", t_test_des.statistic\n",
    "else:\n",
    "    print \"t-тест для дескриптивных статистик: Средние значения не равны, p-value =\", t_test_des.pvalue, \"Cтатистика теста\", t_test_des.statistic"
   ]
  },
  {
   "cell_type": "code",
   "execution_count": 184,
   "metadata": {},
   "outputs": [
    {
     "name": "stdout",
     "output_type": "stream",
     "text": [
      "Тест Колмоговора-Смирнова: Распределения выборок не равны, p-value = 6.130026713144844e-45 Cтатистика теста 0.22549999999999998\n"
     ]
    }
   ],
   "source": [
    "kstest = stats.ks_2samp(test_sample, index_sample)\n",
    "if kstest.pvalue > 0.05:\n",
    "    print \"Тест Колмоговора-Смирнова: Распределения выборок равны на уровне 5%, p-value =\", kstest.pvalue, \"Cтатистика теста\", kstest.statistic\n",
    "else:\n",
    "    print \"Тест Колмоговора-Смирнова: Распределения выборок не равны, p-value =\", kstest.pvalue, \"Cтатистика теста\", kstest.statistic"
   ]
  },
  {
   "cell_type": "code",
   "execution_count": 185,
   "metadata": {},
   "outputs": [
    {
     "name": "stdout",
     "output_type": "stream",
     "text": [
      "Тест Манн-Уитни: Распределения выборок равны на уровне 5%, p-value = 0.05952461649399457 Cтатистика теста 1943380.0\n"
     ]
    }
   ],
   "source": [
    "mwtest = stats.mannwhitneyu(test_sample, index_sample)\n",
    "if mwtest.pvalue > 0.05:\n",
    "    print \"Тест Манн-Уитни: Распределения выборок равны на уровне 5%, p-value =\", mwtest.pvalue, \"Cтатистика теста\", mwtest.statistic\n",
    "else:\n",
    "    print \"Тест Манн-Уитни: Распределения выборок не равны, p-value =\", mwtest.pvalue, \"Cтатистика теста\", mwtest.statistic"
   ]
  }
 ],
 "metadata": {
  "kernelspec": {
   "display_name": "Python 2",
   "language": "python",
   "name": "python2"
  },
  "language_info": {
   "codemirror_mode": {
    "name": "ipython",
    "version": 2
   },
   "file_extension": ".py",
   "mimetype": "text/x-python",
   "name": "python",
   "nbconvert_exporter": "python",
   "pygments_lexer": "ipython2",
   "version": "2.7.14"
  }
 },
 "nbformat": 4,
 "nbformat_minor": 2
}
