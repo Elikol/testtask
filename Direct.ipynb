{
 "cells": [
  {
   "cell_type": "code",
   "execution_count": 100,
   "metadata": {},
   "outputs": [],
   "source": [
    "from random import random\n",
    "from scipy import stats\n",
    "import re\n",
    "import math"
   ]
  },
  {
   "cell_type": "code",
   "execution_count": 111,
   "metadata": {},
   "outputs": [],
   "source": [
    "test_sum = 0.0 \n",
    "index_sum = 0.0\n",
    "home_sum = 0.0\n",
    "\n",
    "test_count = 0\n",
    "index_count = 0\n",
    "home_count = 0\n",
    "\n",
    "time_regex = re.compile('\\d+.\\d+')  \n",
    "\n",
    "with open('log.txt', 'r') as log:\n",
    "    for line in log:\n",
    "        \n",
    "        if 'test' in line:\n",
    "            try:\n",
    "                times = time_regex.search(line).group(0)\n",
    "            except (TypeError, AttributeError):\n",
    "                times = 0\n",
    "            test_sum += float(times)\n",
    "            test_count += 1\n",
    "            \n",
    "        if 'index' in line:\n",
    "            try:\n",
    "                times = time_regex.search(line).group(0)\n",
    "            except (TypeError, AttributeError):\n",
    "                times = 0\n",
    "            index_sum += float(times)\n",
    "            index_count += 1\n",
    "            \n",
    "        if 'home' in line:\n",
    "            try:\n",
    "                times = time_regex.search(line).group(0)\n",
    "            except (TypeError, AttributeError):\n",
    "                times = 0\n",
    "            home_sum += float(times)\n",
    "            home_count += 1"
   ]
  },
  {
   "cell_type": "code",
   "execution_count": 112,
   "metadata": {},
   "outputs": [
    {
     "name": "stdout",
     "output_type": "stream",
     "text": [
      "Среднее время для /test: 0.611666666667 , Число запросов /test 6\n",
      "Среднее время для /index: 0.553333333333 , Число запросов /index 9\n",
      "Среднее время /home: 0.6055 , Число запросов /home 10\n"
     ]
    }
   ],
   "source": [
    "test_mean = test_sum/test_count\n",
    "index_mean = index_sum/index_count\n",
    "home_mean = home_sum/home_count\n",
    "\n",
    "print \"Среднее время для /test:\", test_mean, \", Число запросов /test\", test_count\n",
    "print \"Среднее время для /index:\", index_mean, \", Число запросов /index\", index_count\n",
    "print \"Среднее время /home:\", home_mean, \", Число запросов /home\", home_count"
   ]
  },
  {
   "cell_type": "code",
   "execution_count": 113,
   "metadata": {},
   "outputs": [],
   "source": [
    "test_tmp = 0.0\n",
    "index_tmp = 0.0\n",
    "home_tmp = 0.0\n",
    "\n",
    "with open('log.txt', 'r') as log:\n",
    "    for line in log:\n",
    "        \n",
    "        if 'test' in line:\n",
    "            try:\n",
    "                times = time_regex.search(line).group(0)\n",
    "            except (TypeError, AttributeError):\n",
    "                times = 0\n",
    "            test_tmp += (float(times) - test_mean)**2\n",
    "        \n",
    "        if 'index' in line:\n",
    "            try:\n",
    "                times = time_regex.search(line).group(0)\n",
    "            except (TypeError, AttributeError):\n",
    "                times = 0\n",
    "            index_tmp += (float(times) - index_mean)**2\n",
    "        \n",
    "        if 'home' in line:\n",
    "            try:\n",
    "                times = time_regex.search(line).group(0)\n",
    "            except (TypeError, AttributeError):\n",
    "                times = 0\n",
    "            home_tmp += (float(times)- home_mean)**2"
   ]
  },
  {
   "cell_type": "code",
   "execution_count": 114,
   "metadata": {},
   "outputs": [
    {
     "name": "stdout",
     "output_type": "stream",
     "text": [
      "Стандартное отклонение для /test 0.723427413237\n",
      "Стандартное отклонение для /index 0.646013415753\n",
      "Стандартное отклонение для /index 0.186976602814\n",
      "Стандартная ошибка для /test 0.295338004729\n",
      "Стандартная ошибка для /index 0.215337805251\n",
      "Стандартная ошибка для /home 0.0591271934054\n"
     ]
    }
   ],
   "source": [
    "test_std = math.sqrt((1.0/test_count) * test_tmp)\n",
    "index_std = math.sqrt((1.0/index_count) * index_tmp)\n",
    "home_std = math.sqrt((1.0/home_count) * home_tmp)\n",
    "\n",
    "print \"Стандартное отклонение для /test\", test_std\n",
    "print \"Стандартное отклонение для /index\", index_std\n",
    "print \"Стандартное отклонение для /index\", home_std\n",
    "\n",
    "test_sem = test_std / math.sqrt(test_count)\n",
    "index_sem = index_std / math.sqrt(index_count)\n",
    "home_sem = home_std / math.sqrt(home_count)\n",
    "\n",
    "print \"Стандартная ошибка для /test\", test_sem\n",
    "print \"Стандартная ошибка для /index\", index_sem\n",
    "print \"Стандартная ошибка для /home\", home_sem"
   ]
  },
  {
   "cell_type": "code",
   "execution_count": 115,
   "metadata": {},
   "outputs": [
    {
     "name": "stdout",
     "output_type": "stream",
     "text": [
      "Доверительный интервал среднего для /test (если считать исходное распределение за Стьюдента) (-0.11099939650209911, 1.3343327298354324)\n",
      "Доверительный интервал среднего для /index (если считать исходное распределение за Стьюдента) (0.0662053747755818, 1.040461291891085)\n",
      "Доверительный интервал среднего для /home (если считать исходное распределение за Стьюдента) (0.47375640316577516, 0.7372435968342247)\n",
      "\n",
      "\n",
      "Доверительный интервал среднего для /test (если считать исходное распределение за нормальное) (0.03281481413280185, 1.1905185192005314)\n",
      "Доверительный интервал среднего для /index (если считать исходное распределение за нормальное) (0.13127899053123304, 0.9753876761354336)\n",
      "Доверительный интервал среднего для /home (если считать исходное распределение за нормальное) (0.4896128304184747, 0.7213871695815252)\n"
     ]
    }
   ],
   "source": [
    "conf_test_mean = stats.t.interval(0.95, test_count, test_mean, test_sem)\n",
    "print \"Доверительный интервал среднего для /test (если считать исходное распределение за Стьюдента)\", conf_test_mean\n",
    "conf_index_mean = stats.t.interval(0.95, index_count, index_mean, index_sem)\n",
    "print \"Доверительный интервал среднего для /index (если считать исходное распределение за Стьюдента)\", conf_index_mean\n",
    "conf_home_mean = stats.t.interval(0.95, home_count, home_mean, home_sem)\n",
    "print \"Доверительный интервал среднего для /home (если считать исходное распределение за Стьюдента)\", conf_home_mean\n",
    "\n",
    "print \"\\n\"\n",
    "\n",
    "conf_test_mean = stats.norm.interval(0.95, test_mean, test_sem)\n",
    "print \"Доверительный интервал среднего для /test (если считать исходное распределение за нормальное)\", conf_test_mean\n",
    "conf_index_mean = stats.norm.interval(0.95, index_mean, index_sem)\n",
    "print \"Доверительный интервал среднего для /index (если считать исходное распределение за нормальное)\", conf_index_mean\n",
    "conf_home_mean = stats.norm.interval(0.95,  home_mean, home_sem)\n",
    "print \"Доверительный интервал среднего для /home (если считать исходное распределение за нормальное)\", conf_home_mean"
   ]
  },
  {
   "cell_type": "code",
   "execution_count": 119,
   "metadata": {},
   "outputs": [
    {
     "name": "stdout",
     "output_type": "stream",
     "text": [
      "t-тест для дескриптивных статистик: Средние значения равны на уровне 5%, p-value = 0.8763867501442695 Cтатистика теста 0.1595959412076342\n"
     ]
    }
   ],
   "source": [
    "t_test_des = stats.ttest_ind_from_stats(test_mean, test_std, test_count, index_mean, index_std, index_count, equal_var=False)\n",
    "if t_test_des.pvalue > 0.05:\n",
    "    print \"t-тест для дескриптивных статистик: Средние значения равны на уровне 5%, p-value =\", t_test_des.pvalue, \"Cтатистика теста\", t_test_des.statistic\n",
    "else:\n",
    "    print \"t-тест для дескриптивных статистик: Средние значения не равны, p-value =\", t_test_des.pvalue, \"Cтатистика теста\", t_test_des.statistic"
   ]
  }
 ],
 "metadata": {
  "kernelspec": {
   "display_name": "Python 2",
   "language": "python",
   "name": "python2"
  },
  "language_info": {
   "codemirror_mode": {
    "name": "ipython",
    "version": 2
   },
   "file_extension": ".py",
   "mimetype": "text/x-python",
   "name": "python",
   "nbconvert_exporter": "python",
   "pygments_lexer": "ipython2",
   "version": "2.7.14"
  }
 },
 "nbformat": 4,
 "nbformat_minor": 2
}
